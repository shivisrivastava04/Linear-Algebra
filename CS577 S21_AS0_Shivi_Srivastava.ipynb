{
  "nbformat": 4,
  "nbformat_minor": 0,
  "metadata": {
    "colab": {
      "name": "CS577.ipynb",
      "provenance": [],
      "collapsed_sections": []
    },
    "kernelspec": {
      "name": "python3",
      "display_name": "Python 3"
    }
  },
  "cells": [
    {
      "cell_type": "markdown",
      "metadata": {
        "id": "eULRn98Fuhkp"
      },
      "source": [
        "CS577 Assignment 0\r\n",
        "Spring 2021\r\n",
        "Shivi Srivastava"
      ]
    },
    {
      "cell_type": "code",
      "metadata": {
        "id": "3QNS5DHbgrgH"
      },
      "source": [
        "import numpy as np\r\n",
        "from random import randint, uniform, random\r\n",
        "import math"
      ],
      "execution_count": 3,
      "outputs": []
    },
    {
      "cell_type": "code",
      "metadata": {
        "colab": {
          "base_uri": "https://localhost:8080/"
        },
        "id": "fwBJOK5Zhzbw",
        "outputId": "ace3770e-89f9-4791-d0c6-947c8ed9701c"
      },
      "source": [
        "\r\n",
        "#A.--------------------------------------------------------------------------------------\r\n",
        "#a= np.array([1,2,3])\r\n",
        "a= np.array([[1],[2],[3]])\r\n",
        "b= np.array([[4],[5],[6]])\r\n",
        "c= np.array([[-1],[1],[3]])\r\n",
        "\r\n",
        "print(b)"
      ],
      "execution_count": 17,
      "outputs": [
        {
          "output_type": "stream",
          "text": [
            "[[4]\n",
            " [5]\n",
            " [6]]\n"
          ],
          "name": "stdout"
        }
      ]
    },
    {
      "cell_type": "code",
      "metadata": {
        "colab": {
          "base_uri": "https://localhost:8080/"
        },
        "id": "X2EtIFWhh59R",
        "outputId": "5e1155de-9172-4784-b515-ca10596684f0"
      },
      "source": [
        "#A.1: 2A-B\r\n",
        "a1=2*a-b\r\n",
        "print(a1)"
      ],
      "execution_count": 18,
      "outputs": [
        {
          "output_type": "stream",
          "text": [
            "[[-2]\n",
            " [-1]\n",
            " [ 0]]\n"
          ],
          "name": "stdout"
        }
      ]
    },
    {
      "cell_type": "code",
      "metadata": {
        "colab": {
          "base_uri": "https://localhost:8080/"
        },
        "id": "hj67a7hVizK8",
        "outputId": "a7bd04d4-1c8f-4896-9739-bc9e36708d85"
      },
      "source": [
        "#A.2: Av unit direction of A\r\n",
        "a31=a/a21\r\n",
        "print(a31)"
      ],
      "execution_count": 143,
      "outputs": [
        {
          "output_type": "stream",
          "text": [
            "[[0.2672582 ]\n",
            " [0.5345164 ]\n",
            " [0.80177459]]\n"
          ],
          "name": "stdout"
        }
      ]
    },
    {
      "cell_type": "code",
      "metadata": {
        "colab": {
          "base_uri": "https://localhost:8080/"
        },
        "id": "zGBXc4Ldiu0U",
        "outputId": "df20eeaf-562b-4fc8-cff2-c48c736be5ab"
      },
      "source": [
        "#A.3: ||A|| and angle relative to X axis\r\n",
        "a21=round(np.linalg.norm(a),4)\r\n",
        "a22=round(np.rad2deg(np.arccos(1/a21)),4)\r\n",
        "print(\"The ||A|| is: \"+str(a21)+\" and the angle realtive to X axis is: \"+str(a22)+\" degrees\")"
      ],
      "execution_count": 142,
      "outputs": [
        {
          "output_type": "stream",
          "text": [
            "The ||A|| is: 3.7417 and the angle realtive to X axis is: 74.4988 degrees\n"
          ],
          "name": "stdout"
        }
      ]
    },
    {
      "cell_type": "code",
      "metadata": {
        "colab": {
          "base_uri": "https://localhost:8080/"
        },
        "id": "1JQcIc0jpDVd",
        "outputId": "efb42fd1-aad2-4217-fef3-95aad718ed3d"
      },
      "source": [
        "#A.4: direction of cosines of A\r\n",
        "a41=(a[0]/a21)\r\n",
        "a42=(a[1]/a21)\r\n",
        "a43=(a[2]/a21)\r\n",
        "print(\"The directions cos(x), cos(y) & cos(z) are : \"+str(a41)+\", \"+str(a42)+\" & \"+str(a43)+\" respectively\")\r\n"
      ],
      "execution_count": 144,
      "outputs": [
        {
          "output_type": "stream",
          "text": [
            "The directions cos(x), cos(y) & cos(z) are : [0.2672582], [0.5345164] & [0.80177459] respectively\n"
          ],
          "name": "stdout"
        }
      ]
    },
    {
      "cell_type": "code",
      "metadata": {
        "colab": {
          "base_uri": "https://localhost:8080/"
        },
        "id": "XbuAVoP3Aw07",
        "outputId": "f3cdee77-6370-406f-9abd-40b400bb9c2c"
      },
      "source": [
        "#A.5: Angle between A and B\r\n",
        "a51= np.dot(np.squeeze(np.asarray(a)),np.squeeze(np.asarray(b)))\r\n",
        "a52= (np.linalg.norm(a))*(np.linalg.norm(b)) \r\n",
        "a53= round(np.rad2deg(np.arccos(a51/a52)),4)\r\n",
        "print(a53)"
      ],
      "execution_count": 33,
      "outputs": [
        {
          "output_type": "stream",
          "text": [
            "12.9332\n"
          ],
          "name": "stdout"
        }
      ]
    },
    {
      "cell_type": "code",
      "metadata": {
        "colab": {
          "base_uri": "https://localhost:8080/"
        },
        "id": "aJaHXB4tpPG2",
        "outputId": "6d81d13b-7310-419f-d14d-b85844cebb6c"
      },
      "source": [
        "#A.6: a.b and b.a\r\n",
        "a61=np.dot(np.squeeze(np.asarray(a)),np.squeeze(np.asarray(b)))\r\n",
        "a62=np.dot(np.squeeze(np.asarray(b)),np.squeeze(np.asarray(a)))\r\n",
        "print(\"A.B = \"+str(a61)+\" = B.A\")"
      ],
      "execution_count": 163,
      "outputs": [
        {
          "output_type": "stream",
          "text": [
            "A.B = 32 = B.A\n"
          ],
          "name": "stdout"
        }
      ]
    },
    {
      "cell_type": "code",
      "metadata": {
        "colab": {
          "base_uri": "https://localhost:8080/"
        },
        "id": "cfyRGvCOp4eF",
        "outputId": "9c11b4e2-d6c8-48bd-b81d-8e16ee8d630d"
      },
      "source": [
        "#A.7 \r\n",
        "a71= round(np.linalg.norm(a),4)*round(np.linalg.norm(b),4)\r\n",
        "a72= round(a71*np.cos(a53),4)\r\n",
        "print(a72)"
      ],
      "execution_count": 35,
      "outputs": [
        {
          "output_type": "stream",
          "text": [
            "30.649\n"
          ],
          "name": "stdout"
        }
      ]
    },
    {
      "cell_type": "code",
      "metadata": {
        "colab": {
          "base_uri": "https://localhost:8080/"
        },
        "id": "Wofknqyep9I_",
        "outputId": "20ca2530-f33c-4ccf-a440-c53d390ad781"
      },
      "source": [
        "#A.8 The scalar projection of b onto a\r\n",
        "a53=a51/a21\r\n",
        "print(a53)"
      ],
      "execution_count": 146,
      "outputs": [
        {
          "output_type": "stream",
          "text": [
            "8.5522623406473\n"
          ],
          "name": "stdout"
        }
      ]
    },
    {
      "cell_type": "code",
      "metadata": {
        "colab": {
          "base_uri": "https://localhost:8080/"
        },
        "id": "3aOT6jXbs1Aa",
        "outputId": "ee171f63-23f2-4a2c-c813-91ed0e9772c8"
      },
      "source": [
        "#A.9 A vector whic is perpendicular to a\r\n",
        "a91=np.array([randint(0,10),randint(0,10),randint(0,10)])\r\n",
        "a92=np.cross(a91,np.squeeze(np.asarray(a)))\r\n",
        "a93= np.dot(a92,np.asarray(a))\r\n",
        "print(a92)\r\n",
        "print(str(a93)+\"; if a93 is 0 then vector is perpendicular to a\")"
      ],
      "execution_count": 148,
      "outputs": [
        {
          "output_type": "stream",
          "text": [
            "[27 -3 -7]\n",
            "[0]; if a93 is 0 then vector is perpendicular to a\n"
          ],
          "name": "stdout"
        }
      ]
    },
    {
      "cell_type": "code",
      "metadata": {
        "colab": {
          "base_uri": "https://localhost:8080/"
        },
        "id": "3t6P-idGvx7V",
        "outputId": "db23d609-f034-4078-80d8-98356b795c5e"
      },
      "source": [
        "#A.10: axb and bxa\r\n",
        "a101=np.cross(np.squeeze(np.asarray(a)),np.squeeze(np.asarray(b)))\r\n",
        "a102=np.cross(np.squeeze(np.asarray(b)),np.squeeze(np.asarray(a)))\r\n",
        "print(\"axb = \"+str(a101))\r\n",
        "print(\"bxa = \"+str(a102))"
      ],
      "execution_count": 149,
      "outputs": [
        {
          "output_type": "stream",
          "text": [
            "axb = [-3  6 -3]\n",
            "bxa = [ 3 -6  3]\n"
          ],
          "name": "stdout"
        }
      ]
    },
    {
      "cell_type": "code",
      "metadata": {
        "colab": {
          "base_uri": "https://localhost:8080/"
        },
        "id": "I4lXGbUIwXuM",
        "outputId": "aea83173-9566-4a7a-9f6d-d1cb9ab9d8ce"
      },
      "source": [
        "#A.11: vector perpendicular to A and B\r\n",
        "print(\"AxB = \"+str(a101))"
      ],
      "execution_count": 150,
      "outputs": [
        {
          "output_type": "stream",
          "text": [
            "AxB = [-3  6 -3]\n"
          ],
          "name": "stdout"
        }
      ]
    },
    {
      "cell_type": "code",
      "metadata": {
        "colab": {
          "base_uri": "https://localhost:8080/"
        },
        "id": "rOkLPKONxDDs",
        "outputId": "bdad414c-d75d-4dca-a17b-053b92d1a535"
      },
      "source": [
        "#A.12: dependency between A, B & C\r\n",
        "d=[np.squeeze(np.asarray(a)),np.squeeze(np.asarray(b)),np.squeeze(np.asarray(c))]\r\n",
        "print(\"|D|=\",round(np.linalg.det(d)))"
      ],
      "execution_count": 151,
      "outputs": [
        {
          "output_type": "stream",
          "text": [
            "|D|= 0\n"
          ],
          "name": "stdout"
        }
      ]
    },
    {
      "cell_type": "code",
      "metadata": {
        "colab": {
          "base_uri": "https://localhost:8080/"
        },
        "id": "wYsx_RLQx0nH",
        "outputId": "f87f6750-7757-4a12-8cb6-97b0e1b1436a"
      },
      "source": [
        "#A.13: At.B & A.Bt\r\n",
        "#a= np.matrix([1]) #transpose on matrix not array\r\n",
        "#b= np.matrix([4,5,6])\r\n",
        "c= np.matrix([-1,1,3])\r\n",
        "a111= a.transpose()\r\n",
        "a133=np.dot(a111,b)\r\n",
        "a112= a*b.transpose()\r\n",
        "print(\"At.B = \")\r\n",
        "print(a133)\r\n",
        "print(\"A.Bt = \")\r\n",
        "print(a112)"
      ],
      "execution_count": 152,
      "outputs": [
        {
          "output_type": "stream",
          "text": [
            "At.B = \n",
            "[[32]]\n",
            "A.Bt = \n",
            "[[ 4  5  6]\n",
            " [ 8 10 12]\n",
            " [12 15 18]]\n"
          ],
          "name": "stdout"
        }
      ]
    },
    {
      "cell_type": "code",
      "metadata": {
        "id": "3n4GcGemDD0q"
      },
      "source": [
        "\r\n",
        "#B.--------------------------------------------------------------------------------------\r\n",
        "aa= np.array([[1,2,3],[4,-2,3],[0,5,-1]])\r\n",
        "bb= np.array([[1,2,1],[2,1,-4],[3,-2,1]])\r\n",
        "cc= np.array([[1,2,3],[4,5,6],[-1,1,3]])\r\n",
        "dd= np.array([[1],[2],[3]])"
      ],
      "execution_count": 5,
      "outputs": []
    },
    {
      "cell_type": "code",
      "metadata": {
        "colab": {
          "base_uri": "https://localhost:8080/"
        },
        "id": "GjxjpuO7D2fc",
        "outputId": "64d79bd3-1f27-4573-b291-4d2d573d9810"
      },
      "source": [
        "#B.1: 2A-B\r\n",
        "b1=2*aa-bb\r\n",
        "print(b1)"
      ],
      "execution_count": 155,
      "outputs": [
        {
          "output_type": "stream",
          "text": [
            "[[ 1  2  5]\n",
            " [ 6 -5 10]\n",
            " [-3 12 -3]]\n"
          ],
          "name": "stdout"
        }
      ]
    },
    {
      "cell_type": "code",
      "metadata": {
        "colab": {
          "base_uri": "https://localhost:8080/"
        },
        "id": "bKgRleOoEFEu",
        "outputId": "102e30ee-4189-48ff-a6f7-7458ece15b38"
      },
      "source": [
        "#B.2: A.B & B.A\r\n",
        "b21= np.dot(aa,bb)\r\n",
        "b22= np.dot(bb,aa)\r\n",
        "print(\"A.B = \")\r\n",
        "print(b21)\r\n",
        "print(\"B.A = \")\r\n",
        "print(b22)"
      ],
      "execution_count": 165,
      "outputs": [
        {
          "output_type": "stream",
          "text": [
            "A.B = \n",
            "[[ 14  -2  -4]\n",
            " [  9   0  15]\n",
            " [  7   7 -21]]\n",
            "B.A = \n",
            "[[  9   3   8]\n",
            " [  6 -18  13]\n",
            " [ -5  15   2]]\n"
          ],
          "name": "stdout"
        }
      ]
    },
    {
      "cell_type": "code",
      "metadata": {
        "colab": {
          "base_uri": "https://localhost:8080/"
        },
        "id": "lgkg3-geEHbd",
        "outputId": "64742780-0f3b-4cd8-80d4-4ab3d8cd5d29"
      },
      "source": [
        "#B.3: (AB)t & Bt*At\r\n",
        "b31= b21.transpose()\r\n",
        "b32= np.dot(bb.transpose(),aa.transpose())\r\n",
        "print(\"(A.B)t = \")\r\n",
        "print(b31)\r\n",
        "print(\"Bt.At = \")\r\n",
        "print(b32)"
      ],
      "execution_count": 166,
      "outputs": [
        {
          "output_type": "stream",
          "text": [
            "(A.B)t = \n",
            "[[ 14   9   7]\n",
            " [ -2   0   7]\n",
            " [ -4  15 -21]]\n",
            "Bt.At = \n",
            "[[ 14   9   7]\n",
            " [ -2   0   7]\n",
            " [ -4  15 -21]]\n"
          ],
          "name": "stdout"
        }
      ]
    },
    {
      "cell_type": "code",
      "metadata": {
        "colab": {
          "base_uri": "https://localhost:8080/"
        },
        "id": "fkcb0Y9ZF3KN",
        "outputId": "a21e6bd6-448a-4147-a528-172a22ed452a"
      },
      "source": [
        "#B.4: |A| & |C|\r\n",
        "b41=np.linalg.det(aa)\r\n",
        "b42=np.linalg.det(cc)\r\n",
        "print(\"|A| = \"+str(round(b41,1)))\r\n",
        "print(\"|C| = \"+str(round(b42,1)))"
      ],
      "execution_count": 167,
      "outputs": [
        {
          "output_type": "stream",
          "text": [
            "|A| = 55.0\n",
            "|C| = 0.0\n"
          ],
          "name": "stdout"
        }
      ]
    },
    {
      "cell_type": "code",
      "metadata": {
        "colab": {
          "base_uri": "https://localhost:8080/"
        },
        "id": "OuIFLrBXF6-w",
        "outputId": "8327855b-70ee-476f-f8cf-4ce2d8e90651"
      },
      "source": [
        "#B.5: orthogonal set of A, B & C\r\n",
        "b51= np.dot(aa,aa.transpose())\r\n",
        "b52= np.dot(bb,bb.transpose())\r\n",
        "b53= np.dot(cc,cc.transpose())\r\n",
        "print(\"A.At = \")\r\n",
        "print(b51)\r\n",
        "print(\"B.Bt = \")\r\n",
        "print(b52)\r\n",
        "print(\"C.Ct = \")\r\n",
        "print(b53)"
      ],
      "execution_count": 169,
      "outputs": [
        {
          "output_type": "stream",
          "text": [
            "A.At = \n",
            "[[ 14   9   7]\n",
            " [  9  29 -13]\n",
            " [  7 -13  26]]\n",
            "B.Bt = \n",
            "[[ 6  0  0]\n",
            " [ 0 21  0]\n",
            " [ 0  0 14]]\n",
            "C.Ct = \n",
            "[[14 32 10]\n",
            " [32 77 19]\n",
            " [10 19 11]]\n"
          ],
          "name": "stdout"
        }
      ]
    },
    {
      "cell_type": "code",
      "metadata": {
        "colab": {
          "base_uri": "https://localhost:8080/"
        },
        "id": "cYeb9BmmGCQd",
        "outputId": "04d4f136-977f-4730-a9a8-ee2372ae7cf8"
      },
      "source": [
        "#B.6 A inverse and B inverse\r\n",
        "b61=np.linalg.inv(aa).round(4,)\r\n",
        "b62=np.linalg.inv(bb).round(4,)\r\n",
        "print(\"A inverse = \")\r\n",
        "print(b61)\r\n",
        "print(\"B inverse = \")\r\n",
        "print(b62)"
      ],
      "execution_count": 184,
      "outputs": [
        {
          "output_type": "stream",
          "text": [
            "A inverse = \n",
            "[[-0.2364  0.3091  0.2182]\n",
            " [ 0.0727 -0.0182  0.1636]\n",
            " [ 0.3636 -0.0909 -0.1818]]\n",
            "B inverse = \n",
            "[[ 0.1667  0.0952  0.2143]\n",
            " [ 0.3333  0.0476 -0.1429]\n",
            " [ 0.1667 -0.1905  0.0714]]\n"
          ],
          "name": "stdout"
        }
      ]
    },
    {
      "cell_type": "code",
      "metadata": {
        "colab": {
          "base_uri": "https://localhost:8080/"
        },
        "id": "xaOVJyfaGSTm",
        "outputId": "45f10f30-94df-4e10-9f6e-20917095c520"
      },
      "source": [
        "#B.7 C inverse\r\n",
        "try:\r\n",
        "  b71=np.linalg.inv(cc).round(4,)\r\n",
        "  print(\"C inverse = \")\r\n",
        "  print(b71)\r\n",
        "         \r\n",
        "except np.linalg.LinAlgError as err:\r\n",
        "        # your error handling block\r\n",
        "        print(str(err))\r\n",
        "        \r\n"
      ],
      "execution_count": 204,
      "outputs": [
        {
          "output_type": "stream",
          "text": [
            "Singular matrix\n"
          ],
          "name": "stdout"
        }
      ]
    },
    {
      "cell_type": "code",
      "metadata": {
        "colab": {
          "base_uri": "https://localhost:8080/"
        },
        "id": "bA1rcK-VHDRF",
        "outputId": "cb2bd683-862d-4d51-fbca-4dbb3cbfe188"
      },
      "source": [
        "#B.8 Ad\r\n",
        "b81= np.dot(aa,dd)\r\n",
        "print(\"Ad : \")\r\n",
        "print(b81)"
      ],
      "execution_count": 210,
      "outputs": [
        {
          "output_type": "stream",
          "text": [
            "Ad : \n",
            "[[14]\n",
            " [ 9]\n",
            " [ 7]]\n"
          ],
          "name": "stdout"
        }
      ]
    },
    {
      "cell_type": "code",
      "metadata": {
        "colab": {
          "base_uri": "https://localhost:8080/"
        },
        "id": "ya1EvzsuP3Qo",
        "outputId": "cb71007d-5592-4c87-e3ce-e4cd062f4840"
      },
      "source": [
        "#B.10 The linear combination of columns of A using the elements of D\r\n",
        "b101= np.asarray(aa)\r\n",
        "b102= np.hsplit(b101, 3)\r\n",
        "b103= (dd[0]*b102[0])+(dd[1]*b102[1])+(dd[2]*b102[2])\r\n",
        "print(b103)"
      ],
      "execution_count": 62,
      "outputs": [
        {
          "output_type": "stream",
          "text": [
            "[[14]\n",
            " [ 9]\n",
            " [ 7]]\n"
          ],
          "name": "stdout"
        }
      ]
    },
    {
      "cell_type": "code",
      "metadata": {
        "colab": {
          "base_uri": "https://localhost:8080/"
        },
        "id": "5stxF16og-hp",
        "outputId": "c30c91d1-771b-4782-e5b1-1aec7c4d8a5e"
      },
      "source": [
        "#B.11 solution x for the equation Bx=d\r\n",
        "xb11= np.linalg.solve(bb, dd)\r\n",
        "print(\"Value of x: \")\r\n",
        "print(xb11);\r\n",
        "np.allclose(np.dot(bb, xb12), dd)"
      ],
      "execution_count": 71,
      "outputs": [
        {
          "output_type": "stream",
          "text": [
            "Value of x: \n",
            "[[ 1.00000000e+00]\n",
            " [ 2.37904934e-17]\n",
            " [-1.18952467e-17]]\n"
          ],
          "name": "stdout"
        },
        {
          "output_type": "execute_result",
          "data": {
            "text/plain": [
              "True"
            ]
          },
          "metadata": {
            "tags": []
          },
          "execution_count": 71
        }
      ]
    },
    {
      "cell_type": "code",
      "metadata": {
        "colab": {
          "base_uri": "https://localhost:8080/"
        },
        "id": "kGS5b7TzRk3w",
        "outputId": "72638bee-4cdd-4713-c0be-85bce103a7a4"
      },
      "source": [
        "#B.12 solution x for the equation Cx=d\r\n",
        "try:\r\n",
        "  xb12= np.linalg.solve(cc, dd)\r\n",
        "  print(\"Value of x: \")\r\n",
        "  print(xb12);\r\n",
        "  np.allclose(np.dot(cc, xb12), dd)\r\n",
        "except np.linalg.LinAlgError as err:\r\n",
        "        # your error handling block\r\n",
        "        print(str(err))\r\n"
      ],
      "execution_count": 74,
      "outputs": [
        {
          "output_type": "stream",
          "text": [
            "Singular matrix\n"
          ],
          "name": "stdout"
        }
      ]
    },
    {
      "cell_type": "code",
      "metadata": {
        "id": "LBP_J61shBkP"
      },
      "source": [
        "#C.--------------------------------------------------------------------------------------\r\n",
        "ddd= np.array([[1,2],[3,2]])\r\n",
        "eee= np.array([[2,-2],[-2,5]])\r\n",
        "fff= np.array([[1,2],[2,4]])"
      ],
      "execution_count": 76,
      "outputs": []
    },
    {
      "cell_type": "code",
      "metadata": {
        "colab": {
          "base_uri": "https://localhost:8080/"
        },
        "id": "3J25TTu3hwkD",
        "outputId": "fdbac5a6-37a2-406d-8d8e-8b0f3505c8cd"
      },
      "source": [
        "#C.1: eigenvalues and eigenvectors of D\r\n",
        "c11, c12= np.linalg.eig(ddd)\r\n",
        "print(\"The eigenvalues are = \"+ str(c11[0]) + \" & \"+ str(c11[1]))\r\n",
        "print(\"The eigenvectors are =\")\r\n",
        "print(c12)"
      ],
      "execution_count": 12,
      "outputs": [
        {
          "output_type": "stream",
          "text": [
            "The eigenvalues are = -1.0 & 4.0\n",
            "The eigenvectors are =\n",
            "[[-0.70710678 -0.5547002 ]\n",
            " [ 0.70710678 -0.83205029]]\n"
          ],
          "name": "stdout"
        }
      ]
    },
    {
      "cell_type": "code",
      "metadata": {
        "colab": {
          "base_uri": "https://localhost:8080/"
        },
        "id": "cYgAOOwain4V",
        "outputId": "e7b1761e-e5c2-4c4a-b1f5-e4e3def49eab"
      },
      "source": [
        "#C.2: dot products between eigenvectors of D\r\n",
        "c21= np.dot(c12[0],c12[1])\r\n",
        "print(c21)"
      ],
      "execution_count": 11,
      "outputs": [
        {
          "output_type": "stream",
          "text": [
            "-0.038461538461538214\n"
          ],
          "name": "stdout"
        }
      ]
    },
    {
      "cell_type": "code",
      "metadata": {
        "colab": {
          "base_uri": "https://localhost:8080/"
        },
        "id": "p9I3aH3Knfqo",
        "outputId": "8fc47630-3942-462d-ee0c-d30b6f93ddc5"
      },
      "source": [
        "  #C.3: dot products between eigenvectors of E\r\n",
        "c31, c32= np.linalg.eig(eee)\r\n",
        "c33= np.dot(c32[0],c32[1])\r\n",
        "print(c33)"
      ],
      "execution_count": 13,
      "outputs": [
        {
          "output_type": "stream",
          "text": [
            "-1.2594923403361582e-17\n"
          ],
          "name": "stdout"
        }
      ]
    },
    {
      "cell_type": "code",
      "metadata": {
        "colab": {
          "base_uri": "https://localhost:8080/"
        },
        "id": "lM8sjduHZJEJ",
        "outputId": "5ae82b64-2acc-4d45-e455-1ec323da2f48"
      },
      "source": [
        "#C.5 the only solution x to the equation Fx=0\r\n",
        "try:\r\n",
        "  c51=np.array([0, 0])\r\n",
        "  xc52= np.linalg.solve(fff, c51)\r\n",
        "\r\n",
        "  print(\"Value of x: \")\r\n",
        "  print(xc52);\r\n",
        "except np.linalg.LinAlgError as err:\r\n",
        "        # your error handling block\r\n",
        "        print(str(err))\r\n"
      ],
      "execution_count": 84,
      "outputs": [
        {
          "output_type": "stream",
          "text": [
            "Singular matrix\n"
          ],
          "name": "stdout"
        }
      ]
    },
    {
      "cell_type": "code",
      "metadata": {
        "colab": {
          "base_uri": "https://localhost:8080/"
        },
        "id": "wekj_x4rbtHZ",
        "outputId": "8a02db38-90a7-407e-d664-5763e610da00"
      },
      "source": [
        "#C.6 Two non-trivial solutions Fx=0\r\n",
        "l,v,r= np.linalg.svd(fff);\r\n",
        "#print(l)\r\n",
        "#print(v)\r\n",
        "#print(r)\r\n",
        "print(np.dot(fff,r))"
      ],
      "execution_count": 99,
      "outputs": [
        {
          "output_type": "stream",
          "text": [
            "[[-2.23606798  0.        ]\n",
            " [-4.47213595  0.        ]]\n"
          ],
          "name": "stdout"
        }
      ]
    },
    {
      "cell_type": "code",
      "metadata": {
        "colab": {
          "base_uri": "https://localhost:8080/"
        },
        "id": "bA2pOpaxvSPF",
        "outputId": "4f5d6bec-9bb7-4600-a973-2fe977d1900a"
      },
      "source": [
        "#C.7 the only solution x to the equation Dx=0\r\n",
        "c71=np.array([0, 0])\r\n",
        "xc72= np.linalg.solve(ddd, c71)\r\n",
        "\r\n",
        "print(\"Value of x: \")\r\n",
        "print(xc72);\r\n",
        "np.allclose(np.dot(ddd, xc72), c71)"
      ],
      "execution_count": 81,
      "outputs": [
        {
          "output_type": "stream",
          "text": [
            "Value of x: \n",
            "[0. 0.]\n"
          ],
          "name": "stdout"
        },
        {
          "output_type": "execute_result",
          "data": {
            "text/plain": [
              "True"
            ]
          },
          "metadata": {
            "tags": []
          },
          "execution_count": 81
        }
      ]
    }
  ]
}